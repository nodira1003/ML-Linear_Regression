{
 "cells": [
  {
   "cell_type": "code",
   "execution_count": 1,
   "id": "4c25d775",
   "metadata": {},
   "outputs": [],
   "source": [
    "import numpy as np\n",
    "from sklearn.datasets import load_diabetes\n",
    "from sklearn.linear_model import LinearRegression\n"
   ]
  },
  {
   "cell_type": "code",
   "execution_count": 2,
   "id": "36fcfb6f",
   "metadata": {},
   "outputs": [],
   "source": [
    "# Load the diabetes dataset\n",
    "diabetes = load_diabetes()"
   ]
  },
  {
   "cell_type": "code",
   "execution_count": 3,
   "id": "7ec71eda",
   "metadata": {},
   "outputs": [],
   "source": [
    "# Fit the linear regression model to the data\n",
    "X = diabetes.data[:, np.newaxis, 2]\n",
    "reg = LinearRegression().fit(X, diabetes.target)"
   ]
  },
  {
   "cell_type": "code",
   "execution_count": 4,
   "id": "87d5a9e1",
   "metadata": {},
   "outputs": [],
   "source": [
    "# Predict the target value for x'\n",
    "x_new = np.array(diabetes.data[23, 2])[np.newaxis, np.newaxis]\n",
    "y_pred_1 = reg.predict(x_new)"
   ]
  },
  {
   "cell_type": "code",
   "execution_count": 5,
   "id": "119b79f5",
   "metadata": {},
   "outputs": [],
   "source": [
    "# Predict the target value for x''\n",
    "X2 = diabetes.data[:, 0:3]\n",
    "reg2 = LinearRegression().fit(X2, diabetes.target)\n",
    "x_new2 = np.array(diabetes.data[23, 0:3])[np.newaxis, :]\n",
    "y_pred_2 = reg2.predict(x_new2)"
   ]
  },
  {
   "cell_type": "code",
   "execution_count": null,
   "id": "0a0700b9",
   "metadata": {},
   "outputs": [],
   "source": [
    "# Print the predictions\n",
    "print(\"Prediction for x':\", y_pred_1)\n",
    "print(\"Prediction for x'':\", y_pred_2)\n"
   ]
  }
 ],
 "metadata": {
  "kernelspec": {
   "display_name": "Python 3 (ipykernel)",
   "language": "python",
   "name": "python3"
  },
  "language_info": {
   "codemirror_mode": {
    "name": "ipython",
    "version": 3
   },
   "file_extension": ".py",
   "mimetype": "text/x-python",
   "name": "python",
   "nbconvert_exporter": "python",
   "pygments_lexer": "ipython3",
   "version": "3.9.7"
  }
 },
 "nbformat": 4,
 "nbformat_minor": 5
}
