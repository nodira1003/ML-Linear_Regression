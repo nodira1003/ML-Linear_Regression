{
 "cells": [
  {
   "cell_type": "code",
   "execution_count": 1,
   "id": "8cb5cd9e",
   "metadata": {},
   "outputs": [],
   "source": [
    "import numpy as np\n",
    "from sklearn.linear_model import LinearRegression"
   ]
  },
  {
   "cell_type": "code",
   "execution_count": 2,
   "id": "ba3ac85d",
   "metadata": {},
   "outputs": [],
   "source": [
    "# Create the data\n",
    "X = np.array([[174, 0], [180, 0]])\n",
    "y = np.array([80, 85])"
   ]
  },
  {
   "cell_type": "code",
   "execution_count": 3,
   "id": "9680cb31",
   "metadata": {},
   "outputs": [],
   "source": [
    "# Fit the linear regression model to the data\n",
    "reg = LinearRegression().fit(X, y)"
   ]
  },
  {
   "cell_type": "code",
   "execution_count": 4,
   "id": "fef6a380",
   "metadata": {},
   "outputs": [],
   "source": [
    "# Predict the weight for the new data\n",
    "X_new = np.array([[174, 0], [180, 0]])\n",
    "y_pred = reg.predict(X_new)"
   ]
  },
  {
   "cell_type": "code",
   "execution_count": 5,
   "id": "a7b297d1",
   "metadata": {},
   "outputs": [
    {
     "name": "stdout",
     "output_type": "stream",
     "text": [
      "Predicted weight: [80. 85.]\n"
     ]
    }
   ],
   "source": [
    "# Print the predicted weight\n",
    "print(\"Predicted weight:\", y_pred)"
   ]
  },
  {
   "cell_type": "code",
   "execution_count": null,
   "id": "defeb5d1",
   "metadata": {},
   "outputs": [],
   "source": []
  }
 ],
 "metadata": {
  "kernelspec": {
   "display_name": "Python 3 (ipykernel)",
   "language": "python",
   "name": "python3"
  },
  "language_info": {
   "codemirror_mode": {
    "name": "ipython",
    "version": 3
   },
   "file_extension": ".py",
   "mimetype": "text/x-python",
   "name": "python",
   "nbconvert_exporter": "python",
   "pygments_lexer": "ipython3",
   "version": "3.9.7"
  }
 },
 "nbformat": 4,
 "nbformat_minor": 5
}
